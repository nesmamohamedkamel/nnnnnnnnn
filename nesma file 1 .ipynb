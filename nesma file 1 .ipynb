{
 "cells": [
  {
   "cell_type": "code",
   "execution_count": 1,
   "id": "ff926d2e-8449-4dce-ac16-553db9f2817d",
   "metadata": {},
   "outputs": [
    {
     "name": "stdout",
     "output_type": "stream",
     "text": [
      "area of circle=1962.5\n"
     ]
    }
   ],
   "source": [
    "r=25\n",
    "a=3.14*r*r\n",
    "print(\"area of circle=\"+str(a))"
   ]
  },
  {
   "cell_type": "code",
   "execution_count": 2,
   "id": "9ff949b0-5048-44eb-82d5-6c768404d512",
   "metadata": {},
   "outputs": [
    {
     "name": "stdout",
     "output_type": "stream",
     "text": [
      "area of circle=803.84\n"
     ]
    }
   ],
   "source": [
    "r=16\n",
    "a=3.14*r*r\n",
    "print(\"area of circle=\"+str(a))"
   ]
  },
  {
   "cell_type": "raw",
   "id": "f78f636a-6a42-4a8f-8bbb-feb7c0cdb777",
   "metadata": {},
   "source": [
    "r=10\n",
    "a=3.14*r*r\n",
    "print(\"area of circle=\"+str(a))"
   ]
  },
  {
   "cell_type": "code",
   "execution_count": 3,
   "id": "cac61588-4b96-482f-b23b-4af65f4cc838",
   "metadata": {},
   "outputs": [
    {
     "name": "stdout",
     "output_type": "stream",
     "text": [
      "area of circle=(3, 3150)\n"
     ]
    }
   ],
   "source": [
    "r=15\n",
    "a=3,14*r*r\n",
    "print(\"area of circle=\"+str(a))"
   ]
  },
  {
   "cell_type": "code",
   "execution_count": 4,
   "id": "63a762c2-1998-4dae-9f47-c24398c96f76",
   "metadata": {},
   "outputs": [
    {
     "name": "stdout",
     "output_type": "stream",
     "text": [
      "area of circle=3.14\n"
     ]
    }
   ],
   "source": [
    "r=14\n",
    "a=3.14\n",
    "print(\"area of circle=\"+str(a))"
   ]
  },
  {
   "cell_type": "code",
   "execution_count": 5,
   "id": "1a1e732a-9273-4841-9467-a683acbfe22c",
   "metadata": {},
   "outputs": [
    {
     "name": "stdout",
     "output_type": "stream",
     "text": [
      "area of circle=1256.0\n"
     ]
    }
   ],
   "source": [
    "r=20\n",
    "a=3.14*r*r\n",
    "print(\"area of circle=\"+str(a))"
   ]
  },
  {
   "cell_type": "code",
   "execution_count": 6,
   "id": "28e66288-8fa5-4f23-a50c-5e9c1ef3aa8c",
   "metadata": {},
   "outputs": [
    {
     "name": "stdout",
     "output_type": "stream",
     "text": [
      "area of circle=12.56\n"
     ]
    }
   ],
   "source": [
    "r=2\n",
    "a=3.14*r*r\n",
    "print(\"area of circle=\"+str(a)) "
   ]
  },
  {
   "cell_type": "code",
   "execution_count": 7,
   "id": "811c0b83-edbb-4f00-aac6-37e230a32d47",
   "metadata": {},
   "outputs": [
    {
     "name": "stdout",
     "output_type": "stream",
     "text": [
      "area of circle=50.24\n"
     ]
    }
   ],
   "source": [
    "r=4\n",
    "a=3.14*r*r\n",
    "print(\"area of circle=\"+str(a))"
   ]
  },
  {
   "cell_type": "code",
   "execution_count": 8,
   "id": "bf64eaa5-c080-448a-8b5d-22cfd46712c0",
   "metadata": {},
   "outputs": [
    {
     "name": "stdout",
     "output_type": "stream",
     "text": [
      "20\n"
     ]
    }
   ],
   "source": [
    "x=12\n",
    "y=8\n",
    "print(x+y)"
   ]
  },
  {
   "cell_type": "code",
   "execution_count": 9,
   "id": "6c0d246c-84a3-4377-b134-f9a9d9cc40ab",
   "metadata": {},
   "outputs": [
    {
     "name": "stdout",
     "output_type": "stream",
     "text": [
      "10\n"
     ]
    }
   ],
   "source": [
    "x=15\n",
    "y=5\n",
    "print(x-y)"
   ]
  },
  {
   "cell_type": "code",
   "execution_count": 10,
   "id": "784e3d08-eed5-4d43-bd07-6b61ed357b31",
   "metadata": {},
   "outputs": [
    {
     "name": "stdout",
     "output_type": "stream",
     "text": [
      "6\n"
     ]
    }
   ],
   "source": [
    "x=2\n",
    "y=3\n",
    "print(x*y)"
   ]
  },
  {
   "cell_type": "code",
   "execution_count": 11,
   "id": "e6f393df-a6b9-4d26-8df9-c36d84311fad",
   "metadata": {},
   "outputs": [
    {
     "name": "stdout",
     "output_type": "stream",
     "text": [
      "2.0\n"
     ]
    }
   ],
   "source": [
    "x=6\n",
    "y=3\n",
    "print(x/y)"
   ]
  },
  {
   "cell_type": "code",
   "execution_count": 12,
   "id": "ef8a9fca-c29f-4b34-b636-1e97967fd5e1",
   "metadata": {},
   "outputs": [
    {
     "name": "stdout",
     "output_type": "stream",
     "text": [
      "250\n"
     ]
    }
   ],
   "source": [
    "x=200\n",
    "y=50\n",
    "print(x+y)"
   ]
  },
  {
   "cell_type": "code",
   "execution_count": 13,
   "id": "c103b185-b803-4345-8786-5bcb55ee21b1",
   "metadata": {},
   "outputs": [
    {
     "name": "stdout",
     "output_type": "stream",
     "text": [
      "200\n"
     ]
    }
   ],
   "source": [
    "x=400\n",
    "y=200\n",
    "print(x-y)"
   ]
  },
  {
   "cell_type": "code",
   "execution_count": 14,
   "id": "ab0204c3-47b7-4e95-bebe-f21fde800aae",
   "metadata": {},
   "outputs": [
    {
     "name": "stdout",
     "output_type": "stream",
     "text": [
      "175\n"
     ]
    }
   ],
   "source": [
    "x=100\n",
    "y=75\n",
    "print(x+y)"
   ]
  },
  {
   "cell_type": "code",
   "execution_count": 15,
   "id": "1b1043fc-968f-464d-8ab1-f767ed608c58",
   "metadata": {},
   "outputs": [
    {
     "name": "stdout",
     "output_type": "stream",
     "text": [
      "hello welcome to  j3  , we are 21 student \n"
     ]
    }
   ],
   "source": [
    "name=\" j3 \"\n",
    "number=21\n",
    "print(f\"hello welcome to {name} , we are {number} student \")"
   ]
  },
  {
   "cell_type": "code",
   "execution_count": null,
   "id": "565236bb-ecb8-45a8-97fd-f93986bc5752",
   "metadata": {},
   "outputs": [],
   "source": []
  }
 ],
 "metadata": {
  "kernelspec": {
   "display_name": "Python 3 (ipykernel)",
   "language": "python",
   "name": "python3"
  },
  "language_info": {
   "codemirror_mode": {
    "name": "ipython",
    "version": 3
   },
   "file_extension": ".py",
   "mimetype": "text/x-python",
   "name": "python",
   "nbconvert_exporter": "python",
   "pygments_lexer": "ipython3",
   "version": "3.12.7"
  }
 },
 "nbformat": 4,
 "nbformat_minor": 5
}
